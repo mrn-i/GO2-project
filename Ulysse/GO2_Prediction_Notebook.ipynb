{
 "cells": [
  {
   "cell_type": "code",
   "execution_count": 1,
   "metadata": {},
   "outputs": [
    {
     "data": {
      "text/html": [
       "<b>SOMMAIRE</b>\n",
       "<div id=\"my_id_menu_nb\">run previous cell, wait for 2 seconds</div>\n",
       "<script>\n",
       "function repeat_indent_string(n){\n",
       "    var a = \"\" ;\n",
       "    for ( ; n > 0 ; --n)\n",
       "        a += \"    \";\n",
       "    return a;\n",
       "}\n",
       "// look up into all sections and builds an automated menu //\n",
       "var update_menu_string = function(begin, lfirst, llast, sformat, send, keep_item, begin_format, end_format) {\n",
       "    var anchors = document.getElementsByClassName(\"section\");\n",
       "    if (anchors.length == 0) {\n",
       "        anchors = document.getElementsByClassName(\"text_cell_render rendered_html\");\n",
       "    }\n",
       "    var i,t;\n",
       "    var text_menu = begin;\n",
       "    var text_memo = \"<pre>\\nlength:\" + anchors.length + \"\\n\";\n",
       "    var ind = \"\";\n",
       "    var memo_level = 1;\n",
       "    var href;\n",
       "    var tags = [];\n",
       "    var main_item = 0;\n",
       "    var format_open = 0;\n",
       "    for (i = 0; i <= llast; i++)\n",
       "        tags.push(\"h\" + i);\n",
       "\n",
       "    for (i = 0; i < anchors.length; i++) {\n",
       "        text_memo += \"**\" + anchors[i].id + \"--\\n\";\n",
       "\n",
       "        var child = null;\n",
       "        for(t = 0; t < tags.length; t++) {\n",
       "            var r = anchors[i].getElementsByTagName(tags[t]);\n",
       "            if (r.length > 0) {\n",
       "child = r[0];\n",
       "break;\n",
       "            }\n",
       "        }\n",
       "        if (child == null) {\n",
       "            text_memo += \"null\\n\";\n",
       "            continue;\n",
       "        }\n",
       "        if (anchors[i].hasAttribute(\"id\")) {\n",
       "            // when converted in RST\n",
       "            href = anchors[i].id;\n",
       "            text_memo += \"#1-\" + href;\n",
       "            // passer à child suivant (le chercher)\n",
       "        }\n",
       "        else if (child.hasAttribute(\"id\")) {\n",
       "            // in a notebook\n",
       "            href = child.id;\n",
       "            text_memo += \"#2-\" + href;\n",
       "        }\n",
       "        else {\n",
       "            text_memo += \"#3-\" + \"*\" + \"\\n\";\n",
       "            continue;\n",
       "        }\n",
       "        var title = child.textContent;\n",
       "        var level = parseInt(child.tagName.substring(1,2));\n",
       "\n",
       "        text_memo += \"--\" + level + \"?\" + lfirst + \"--\" + title + \"\\n\";\n",
       "\n",
       "        if ((level < lfirst) || (level > llast)) {\n",
       "            continue ;\n",
       "        }\n",
       "        if (title.endsWith('¶')) {\n",
       "            title = title.substring(0,title.length-1).replace(\"<\", \"&lt;\")\n",
       "         .replace(\">\", \"&gt;\").replace(\"&\", \"&amp;\");\n",
       "        }\n",
       "        if (title.length == 0) {\n",
       "            continue;\n",
       "        }\n",
       "\n",
       "        while (level < memo_level) {\n",
       "            text_menu += end_format + \"</ul>\\n\";\n",
       "            format_open -= 1;\n",
       "            memo_level -= 1;\n",
       "        }\n",
       "        if (level == lfirst) {\n",
       "            main_item += 1;\n",
       "        }\n",
       "        if (keep_item != -1 && main_item != keep_item + 1) {\n",
       "            // alert(main_item + \" - \" + level + \" - \" + keep_item);\n",
       "            continue;\n",
       "        }\n",
       "        while (level > memo_level) {\n",
       "            text_menu += \"<ul>\\n\";\n",
       "            memo_level += 1;\n",
       "        }\n",
       "        text_menu += repeat_indent_string(level-2);\n",
       "        text_menu += begin_format + sformat.replace(\"__HREF__\", href).replace(\"__TITLE__\", title);\n",
       "        format_open += 1;\n",
       "    }\n",
       "    while (1 < memo_level) {\n",
       "        text_menu += end_format + \"</ul>\\n\";\n",
       "        memo_level -= 1;\n",
       "        format_open -= 1;\n",
       "    }\n",
       "    text_menu += send;\n",
       "    //text_menu += \"\\n\" + text_memo;\n",
       "\n",
       "    while (format_open > 0) {\n",
       "        text_menu += end_format;\n",
       "        format_open -= 1;\n",
       "    }\n",
       "    return text_menu;\n",
       "};\n",
       "var update_menu = function() {\n",
       "    var sbegin = \"\";\n",
       "    var sformat = '<a href=\"#__HREF__\">__TITLE__</a>';\n",
       "    var send = \"\";\n",
       "    var begin_format = '<li>';\n",
       "    var end_format = '</li>';\n",
       "    var keep_item = -1;\n",
       "    var text_menu = update_menu_string(sbegin, 1, 4, sformat, send, keep_item,\n",
       "       begin_format, end_format);\n",
       "    var menu = document.getElementById(\"my_id_menu_nb\");\n",
       "    menu.innerHTML=text_menu;\n",
       "};\n",
       "window.setTimeout(update_menu,2000);\n",
       "            </script>"
      ],
      "text/plain": [
       "<IPython.core.display.HTML object>"
      ]
     },
     "execution_count": 1,
     "metadata": {},
     "output_type": "execute_result"
    }
   ],
   "source": [
    "# Création du sommaire :\n",
    "from jyquickhelper import add_notebook_menu\n",
    "add_notebook_menu(first_level=1, last_level=4, header=\"SOMMAIRE\")"
   ]
  },
  {
   "cell_type": "code",
   "execution_count": 16,
   "metadata": {},
   "outputs": [
    {
     "data": {
      "text/plain": [
       "'0.22.1'"
      ]
     },
     "execution_count": 16,
     "metadata": {},
     "output_type": "execute_result"
    }
   ],
   "source": [
    "import sklearn\n",
    "sklearn.__version__"
   ]
  },
  {
   "cell_type": "markdown",
   "metadata": {},
   "source": [
    "# Read Me"
   ]
  },
  {
   "cell_type": "markdown",
   "metadata": {},
   "source": [
    "Reprendre la définition du projet et des objectifs\n",
    "\n",
    "Détailler les instructions d'utilisation du notebook et de l'application Flask\n",
    "\n",
    "Préciser les hypothèses"
   ]
  },
  {
   "cell_type": "markdown",
   "metadata": {},
   "source": [
    "# Libraries"
   ]
  },
  {
   "cell_type": "code",
   "execution_count": 2,
   "metadata": {},
   "outputs": [],
   "source": [
    "# Basic Librairies :\n",
    "import pandas as pd\n",
    "import numpy as np\n",
    "import matplotlib.pyplot as plt \n",
    "import seaborn as sns\n",
    "import datetime as dt\n",
    "import json\n",
    "\n",
    "# Calcul de distance :\n",
    "from geopy.distance import geodesic\n",
    "\n",
    "# Pickle :\n",
    "import pickle"
   ]
  },
  {
   "cell_type": "markdown",
   "metadata": {},
   "source": [
    "# Functions & Hypothesis"
   ]
  },
  {
   "cell_type": "code",
   "execution_count": 3,
   "metadata": {},
   "outputs": [],
   "source": [
    "# Functions :\n",
    "def filter_df(df_to_filter, start_date, end_date) :\n",
    "    \"\"\"\n",
    "    Function to reduce a dataframe on start/end date. \n",
    "    start_date and end_date must be in the form : YYYY-MM-DD hh:mm\n",
    "    \"\"\" \n",
    "    start = dt.datetime.strptime(start_date, \"%Y-%m-%d %H:%M\")\n",
    "    end = dt.datetime.strptime(end_date, \"%Y-%m-%d %H:%M\")\n",
    "    return df_to_filter.loc[(df_to_filter[\"Datetime\"] > start) & (df_to_filter[\"Datetime\"] < end)]\n",
    "\n",
    "\n",
    "def calcul_CO2(distance,label):\n",
    "    \"\"\"\n",
    "    Function to calculate the CO2 emission in terms of distance and transportation means\n",
    "    \"\"\"\n",
    "    return distance/1000*carbone_dict[label]\n",
    "\n",
    "\n",
    "# Hypothesis on emissions by transport's mean (gCO2/km) [*source : ADEME (Hors infrastructure)] :\n",
    "carbone_dict = {'AVION': 500,\n",
    "                'ON_BICYCLE': 0,\n",
    "                'ON_FOOT': 0,\n",
    "                'ON_VEHICLE' : 220,\n",
    "                'STILL': 0,\n",
    "                'TGV': 1.9,\n",
    "                'TRANSPORT_EN_COMMUN': 15}                              "
   ]
  },
  {
   "cell_type": "markdown",
   "metadata": {},
   "source": [
    "# Datas' Pretreatment"
   ]
  },
  {
   "cell_type": "code",
   "execution_count": 4,
   "metadata": {},
   "outputs": [],
   "source": [
    "# On charge notre dataset json dans un fichier raw :\n",
    "datafile_path=\"Data_ED_2019-01-02/Historique des positions/Historique des positions.json\"\n",
    "with open(datafile_path, 'r') as fh:\n",
    "    raw = json.loads(fh.read())\n",
    "    \n",
    "# On définit notre DataFrame, et on supprime le raw qui prend de l'espace mémoire :\n",
    "df_location = pd.DataFrame(raw['locations'])\n",
    "del raw"
   ]
  },
  {
   "cell_type": "code",
   "execution_count": 5,
   "metadata": {},
   "outputs": [],
   "source": [
    "# conversion dans les unités internationales\n",
    "df_location['latitudeE7'] = df_location['latitudeE7']/float(1e7) \n",
    "df_location['longitudeE7'] = df_location['longitudeE7']/float(1e7)\n",
    "df_location['timestampMs'] = df_location['timestampMs'].map(lambda x: float(x)/1000) #(conversion en secondes)\n",
    "df_location['Datetime'] = df_location.timestampMs.map(dt.datetime.fromtimestamp)\n",
    "\n",
    "# On renomme nos colonnes :\n",
    "df_location.rename(columns={'latitudeE7':'Latitude', 'longitudeE7':'Longitude', 'timestampMs':'Timestamp'}, inplace=True)"
   ]
  },
  {
   "cell_type": "code",
   "execution_count": 6,
   "metadata": {},
   "outputs": [],
   "source": [
    "# Réduction éventuelle de la taille du dataset, par date :\n",
    "start_date = \"2019-12-01 00:00\"\n",
    "end_date = \"2019-12-31 00:00\"\n",
    "\n",
    "df_location = filter_df(df_location, start_date, end_date) "
   ]
  },
  {
   "cell_type": "code",
   "execution_count": 7,
   "metadata": {},
   "outputs": [],
   "source": [
    "# On supprime les lignes dont la précision de la position est < 500m :\n",
    "min_precision = 500     # en mètre\n",
    "df_location = df_location[abs(df_location.accuracy) < min_precision]"
   ]
  },
  {
   "cell_type": "code",
   "execution_count": 8,
   "metadata": {},
   "outputs": [],
   "source": [
    "# Création d'un nouveau dataset :\n",
    "df = df_location.reset_index(drop=True).copy(deep=True)\n",
    "df_path = df.copy(deep=True)"
   ]
  },
  {
   "cell_type": "code",
   "execution_count": 9,
   "metadata": {},
   "outputs": [],
   "source": [
    "# Définition des colonnes dont j'ai besoin dans mon dataset Trajet :\n",
    "columns = ['Dep_Datetime',\n",
    "           'Dep_Time', 'Arr_Time', \n",
    "           'Dep_Lat', 'Arr_Lat', 'Dep_Lon', 'Arr_Lon',\n",
    "           'Duration', 'Distance', 'Velocity'\n",
    "          ]"
   ]
  },
  {
   "cell_type": "code",
   "execution_count": 10,
   "metadata": {
    "scrolled": true
   },
   "outputs": [],
   "source": [
    "# Création des colonnes dans mon nouveau dataset :\n",
    "\n",
    "# Date des positions dep\n",
    "df_path['Dep_Datetime'] = df['Datetime']\n",
    "\n",
    "# Timestamp des positions dep/arr\n",
    "df_path['Dep_Time'] = df['Timestamp']\n",
    "df_path['Arr_Time'] = df.shift(periods=-1)['Timestamp']\n",
    "\n",
    "# Latitude des positions dep/arr\n",
    "df_path['Dep_Lat'] = df['Latitude']\n",
    "df_path['Arr_Lat'] = df.shift(periods=-1)['Latitude']\n",
    "\n",
    "# Longitude des positions dep/arr\n",
    "df_path['Dep_Lon'] = df['Longitude']\n",
    "df_path['Arr_Lon'] = df.shift(periods=-1)['Longitude']\n",
    "\n",
    "# Je supprime la dernière ligne qui ne représente pas de trajet et contient des NaN :\n",
    "df_path = df_path[:-1]\n",
    "\n",
    "# Colonne 'Duration' (duréee en secondes)\n",
    "df_path['Duration'] = df_path['Arr_Time'] - df_path['Dep_Time']\n",
    "\n",
    "# Colonne 'Distance' (longueur du déplacement en mètre) :\n",
    "df_path['Distance'] = [geodesic((a, b),(c, d)).m for (a,b,c,d) \n",
    "                         in zip(df_path.Dep_Lat, df_path.Dep_Lon, df_path.Arr_Lat, df_path.Arr_Lon)]\n",
    "\n",
    "# Colonne 'Velocity' (Vitesse de déplacement en km/h)\n",
    "df_path['Velocity'] = ( df_path['Distance'] / 1000 ) / ( df_path['Duration'] / 3600 )\n",
    "\n",
    "# Je supprime les colonnes inutiles :\n",
    "df_path = df_path[columns]\n",
    "\n",
    "# Je supprime les lignes dont la durée du trajet est inférieure à 5 secondes :\n",
    "df_path = df_path[df_path['Duration'] >= 5]"
   ]
  },
  {
   "cell_type": "code",
   "execution_count": 11,
   "metadata": {},
   "outputs": [],
   "source": [
    "# Copie du dataset en fin de traitement :\n",
    "df = df_path.reset_index(drop=True).copy(deep=True)"
   ]
  },
  {
   "cell_type": "markdown",
   "metadata": {},
   "source": [
    "# ML Model predictions"
   ]
  },
  {
   "cell_type": "code",
   "execution_count": 12,
   "metadata": {},
   "outputs": [],
   "source": [
    "# Choix des featurees :\n",
    "features_list = ['Dep_Time', 'Arr_Time', \n",
    "                 'Dep_Lat', 'Arr_Lat', 'Dep_Lon', 'Arr_Lon', \n",
    "                 'Duration', 'Distance', 'Velocity']\n",
    "\n",
    "X = df.loc[:,features_list]"
   ]
  },
  {
   "cell_type": "code",
   "execution_count": 13,
   "metadata": {},
   "outputs": [],
   "source": [
    "# loading the model from disk :\n",
    "filename = 'model_rf.sav'\n",
    "model = pickle.load(open(filename, 'rb'))\n",
    "\n",
    "# Prediction on dataset :\n",
    "y_pred = model.predict(X)\n",
    "\n",
    "# Fusion des labels prédits avec les features :\n",
    "df_pred = X\n",
    "df_pred['Label'] = y_pred\n",
    "\n",
    "# attribution des labels :\n",
    "label_filename = \"./Pickle_Saved/label_dictionary.pickle\"\n",
    "with open(label_filename, 'rb') as handle:\n",
    "    labels = pickle.load(handle)\n",
    "    \n",
    "df_pred['Label'] = df_pred['Label'].map(labels)"
   ]
  },
  {
   "cell_type": "markdown",
   "metadata": {},
   "source": [
    "# Bilan CO2"
   ]
  },
  {
   "cell_type": "code",
   "execution_count": 14,
   "metadata": {},
   "outputs": [
    {
     "name": "stdout",
     "output_type": "stream",
     "text": [
      "Votre impact carbone sur la période allant du 2019-12-01 00:00 au 2019-12-31 00:00 est de : 3386.61 kg  \n",
      "Envisagez une compensation de 74.51 € TTC, par exemple via GoodPlanet \n"
     ]
    }
   ],
   "source": [
    "# Calcul de l'impact carbone par micro trajet :\n",
    "df_pred[\"Carbon_Impact\"] = [calcul_CO2(x, y) for (x, y) in zip(df_pred[\"Distance\"], df_pred[\"Label\"])]\n",
    "\n",
    "# Calcul de l'impact carbone total sur la période de temps choisit :\n",
    "Total_Impact_Kg = df_pred[\"Carbon_Impact\"].sum()/1000\n",
    "\n",
    "print(\"Votre impact carbone sur la période allant du {} au {} est de : {:.2f} kg  \".format(start_date, end_date, Total_Impact_Kg))\n",
    "print(\"Envisagez une compensation de {:.2f} € TTC, par exemple via GoodPlanet \".format(Total_Impact_Kg/1000*22))"
   ]
  },
  {
   "cell_type": "code",
   "execution_count": 18,
   "metadata": {},
   "outputs": [
    {
     "name": "stdout",
     "output_type": "stream",
     "text": [
      "Les résultats de votre bilan carbon ont été sauvegardés au format *.csv dans './Pickle_Saved/Carbon_results_ED_01.csv'\n"
     ]
    }
   ],
   "source": [
    "# Saving results :\n",
    "name = 'Carbon_results_ED_01'\n",
    "\n",
    "df_pred.to_csv(\"./Pickle_Saved/{}.csv\".format(name))\n",
    "print(\"Les résultats de votre bilan carbon ont été sauvegardés au format *.csv dans './Pickle_Saved/{}.csv'\".format(name))"
   ]
  },
  {
   "cell_type": "raw",
   "metadata": {},
   "source": [
    "Sources :\n",
    "\n",
    "http://kivanpolimis.com/location-data-exploration-1.html\n"
   ]
  }
 ],
 "metadata": {
  "kernelspec": {
   "display_name": "Python 3",
   "language": "python",
   "name": "python3"
  },
  "language_info": {
   "codemirror_mode": {
    "name": "ipython",
    "version": 3
   },
   "file_extension": ".py",
   "mimetype": "text/x-python",
   "name": "python",
   "nbconvert_exporter": "python",
   "pygments_lexer": "ipython3",
   "version": "3.7.3"
  }
 },
 "nbformat": 4,
 "nbformat_minor": 2
}
